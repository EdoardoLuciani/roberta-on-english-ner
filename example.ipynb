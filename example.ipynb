{
 "cells": [
  {
   "cell_type": "code",
   "execution_count": null,
   "metadata": {},
   "outputs": [],
   "source": [
    "from transformers import RobertaTokenizerFast, RobertaForTokenClassification, BatchEncoding, CharSpan\n",
    "from datasets import load_dataset\n",
    "import torch, os, numpy as np\n",
    "\n",
    "import utils\n",
    "\n",
    "import importlib\n",
    "importlib.reload(utils);"
   ]
  },
  {
   "cell_type": "code",
   "execution_count": null,
   "metadata": {},
   "outputs": [],
   "source": [
    "path = 'checkpoints/roberta-training-default-dataset-fp16/checkpoint-1005'\n",
    "\n",
    "tokenizer = RobertaTokenizerFast.from_pretrained('roberta-base')\n",
    "model = RobertaForTokenClassification.from_pretrained('EdoardoLuciani/roberta-on-english-ner', num_labels=37)"
   ]
  },
  {
   "cell_type": "code",
   "execution_count": null,
   "metadata": {},
   "outputs": [],
   "source": [
    "ds_label_tag_mapping, ds_tag_label_mapping = utils.load_label_mapping()"
   ]
  },
  {
   "cell_type": "code",
   "execution_count": null,
   "metadata": {},
   "outputs": [],
   "source": [
    "text = [\n",
    "    \"Barack Obama was born in Hawaii and served as the 44th President of the United States.\",\n",
    "    \"Apple Inc. is headquartered in Cupertino, California, and was founded by Steve Jobs, Steve Wozniak, and Ronald Wayne.\",\n",
    "    \"The Eiffel Tower, located in Paris, France, is one of the most famous landmarks in the world.\",\n",
    "    \"Amazon's CEO, Andy Jassy, announced new plans for expanding their headquarters in Seattle.\",\n",
    "    \"The novel 'To Kill a Mockingbird' was written by Harper Lee and published in 1960.\",\n",
    "    \"Tesla's new Gigafactory in Berlin is expected to produce thousands of electric vehicles each year.\",\n",
    "    \"The Great Wall of China stretches across northern China and was built to protect against invasions.\",\n",
    "    \"On July 20, 1969, Neil Armstrong and Buzz Aldrin became the first humans to walk on the moon as part of the Apollo 11 mission.\",\n",
    "    \"The United Nations headquarters is located in New York City, and it is an international organization founded in 1945.\",\n",
    "    \"The Nobel Prize in Literature 2020 was awarded to Louise Glück, an American poet.\",\n",
    "]"
   ]
  },
  {
   "cell_type": "code",
   "execution_count": null,
   "metadata": {},
   "outputs": [],
   "source": [
    "tokens: BatchEncoding = tokenizer(text, truncation=True, padding='longest')\n",
    "\n",
    "inputs = {k:torch.tensor(v) for (k,v) in tokens.items()}"
   ]
  },
  {
   "cell_type": "code",
   "execution_count": null,
   "metadata": {},
   "outputs": [],
   "source": [
    "with torch.no_grad():\n",
    "    logits = model(inputs['input_ids'], inputs['attention_mask']).logits\n",
    "\n",
    "predicted_token_class_ids = logits.argmax(-1).tolist()"
   ]
  },
  {
   "cell_type": "code",
   "execution_count": null,
   "metadata": {},
   "outputs": [],
   "source": [
    "def print_labels_texts(tokens: BatchEncoding, batch_index: int, labels: list[int], ds_tag_label_mapping: dict[int, str]):\n",
    "    char_spans = [(tokens.token_to_chars(batch_or_token_index=batch_index,token_index=i),label) for i,label in enumerate(labels)][1:-1]\n",
    "\n",
    "    grouped_char_spans = []\n",
    "    old_label = 0\n",
    "\n",
    "    for span, label in char_spans:\n",
    "        if label == 0:\n",
    "            pass\n",
    "        elif old_label == 0 or (ds_tag_label_mapping[grouped_char_spans[-1][1]][2:] != ds_tag_label_mapping[label][2:]):\n",
    "            grouped_char_spans.append((span, label))\n",
    "        else:\n",
    "            current_span, current_label = grouped_char_spans[-1]\n",
    "            grouped_char_spans[-1] = (CharSpan(current_span.start, span.end), current_label)\n",
    "\n",
    "        old_label = label\n",
    "\n",
    "\n",
    "    formatted_spans: str = ''\n",
    "    for span, _ in grouped_char_spans:\n",
    "        formatted_spans += ' ' * (span.start - len(formatted_spans))\n",
    "        formatted_spans += '-' * (span.end - span.start)\n",
    "    print(formatted_spans)\n",
    "\n",
    "\n",
    "    formatted_spans: str = ''\n",
    "    for span, label in grouped_char_spans:\n",
    "        formatted_spans += ' ' * (span.start - len(formatted_spans))\n",
    "        formatted_spans += ds_tag_label_mapping[label][2:]\n",
    "    print(formatted_spans)\n",
    "\n",
    "\n",
    "for i, (sentence, labels) in enumerate(zip(text, predicted_token_class_ids)):\n",
    "    print(sentence)\n",
    "    print_labels_texts(tokens, i, labels, ds_tag_label_mapping)\n",
    "    print('\\n')"
   ]
  }
 ],
 "metadata": {
  "kernelspec": {
   "display_name": "roberta-traning",
   "language": "python",
   "name": "python3"
  },
  "language_info": {
   "codemirror_mode": {
    "name": "ipython",
    "version": 3
   },
   "file_extension": ".py",
   "mimetype": "text/x-python",
   "name": "python",
   "nbconvert_exporter": "python",
   "pygments_lexer": "ipython3",
   "version": "3.12.2"
  }
 },
 "nbformat": 4,
 "nbformat_minor": 2
}
