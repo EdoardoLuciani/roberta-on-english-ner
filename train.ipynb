{
 "cells": [
  {
   "cell_type": "code",
   "execution_count": null,
   "metadata": {},
   "outputs": [],
   "source": [
    "from transformers import RobertaTokenizerFast, RobertaForTokenClassification, TrainingArguments, Trainer\n",
    "from datasets import load_dataset\n",
    "from tqdm.notebook import tqdm\n",
    "\n",
    "import utils, torch, os, pandas as pd, numpy as np, importlib, json, wandb, pickle\n",
    "\n",
    "importlib.reload(utils);"
   ]
  },
  {
   "cell_type": "code",
   "execution_count": null,
   "metadata": {},
   "outputs": [],
   "source": [
    "with open('keys.json') as f:\n",
    "    keys = json.load(f)"
   ]
  },
  {
   "cell_type": "code",
   "execution_count": null,
   "metadata": {},
   "outputs": [],
   "source": [
    "tokenizer = RobertaTokenizerFast.from_pretrained('roberta-base', add_prefix_space=True)"
   ]
  },
  {
   "cell_type": "code",
   "execution_count": null,
   "metadata": {},
   "outputs": [],
   "source": [
    "# https://huggingface.co/datasets/tner/ontonotes5\n",
    "ds = load_dataset(\"tner/ontonotes5\", keep_in_memory=True, num_proc=os.cpu_count())\n",
    "\n",
    "ds_label_tag_mapping, ds_tag_label_mapping = utils.load_label_mapping()"
   ]
  },
  {
   "cell_type": "code",
   "execution_count": null,
   "metadata": {},
   "outputs": [],
   "source": [
    "train_tokenized_dataset = utils.process_dataset(ds['train'], tokenizer)\n",
    "validation_tokenized_dataset = utils.process_dataset(ds['validation'], tokenizer)"
   ]
  },
  {
   "cell_type": "code",
   "execution_count": null,
   "metadata": {},
   "outputs": [],
   "source": [
    "os.environ[\"WANDB_PROJECT\"]=\"roberta-training\"\n",
    "os.environ[\"WANDB_API_KEY\"]=keys['wandb-api-key']\n",
    "\n",
    "batch_size = 8\n",
    "training_steps = len(train_tokenized_dataset['input_ids']) * 3 / batch_size\n",
    "steps_per_actions = int(training_steps * 0.10)\n",
    "\n",
    "run_name = \"roberta-training-default-dataset\"\n",
    "\n",
    "training_args = TrainingArguments(\n",
    "    run_name=run_name,\n",
    "    output_dir=f\"./checkpoints/{run_name}\",\n",
    "    eval_strategy=\"steps\",\n",
    "    learning_rate=2e-5,\n",
    "    per_device_train_batch_size=batch_size,\n",
    "    per_device_eval_batch_size=batch_size,\n",
    "    num_train_epochs=3,\n",
    "    weight_decay=0.01,\n",
    "    save_steps=steps_per_actions,\n",
    "    eval_steps=steps_per_actions,\n",
    "    logging_steps=1,\n",
    "    report_to=\"wandb\"\n",
    ")"
   ]
  },
  {
   "cell_type": "code",
   "execution_count": null,
   "metadata": {},
   "outputs": [],
   "source": [
    "from sklearn.metrics import accuracy_score\n",
    "\n",
    "model = RobertaForTokenClassification.from_pretrained('roberta-base', num_labels=len(ds_label_tag_mapping))\n",
    "\n",
    "\n",
    "def compute_metrics(eval_pred):\n",
    "    # with open('eval_pred.pickle', 'wb') as handle:\n",
    "    #     pickle.dump(eval_pred, handle, protocol=pickle.HIGHEST_PROTOCOL)\n",
    "\n",
    "    logits, labels = eval_pred\n",
    "    predictions = np.argmax(logits, axis=-1)\n",
    "\n",
    "    r_labels = np.ravel(labels)\n",
    "    r_predictions = np.ravel(predictions)\n",
    "\n",
    "    # lookup ignored tokens and equalize them in the prediction matrix, so it is ignored in the accuracy score\n",
    "    ignored_tokens_indexes = np.where(r_labels == -100)    \n",
    "    r_predictions[ignored_tokens_indexes] = -100\n",
    "\n",
    "    return {\"accuracy\" : accuracy_score(r_labels, r_predictions)}\n",
    "\n",
    "# Initialize Trainer\n",
    "trainer = Trainer(\n",
    "    model=model,\n",
    "    args=training_args,\n",
    "    train_dataset=train_tokenized_dataset,\n",
    "    eval_dataset=validation_tokenized_dataset,\n",
    "    compute_metrics=compute_metrics\n",
    ")\n",
    "\n",
    "trainer.train()\n",
    "wandb.finish()"
   ]
  }
 ],
 "metadata": {
  "kernelspec": {
   "display_name": "roberta-traning",
   "language": "python",
   "name": "python3"
  },
  "language_info": {
   "codemirror_mode": {
    "name": "ipython",
    "version": 3
   },
   "file_extension": ".py",
   "mimetype": "text/x-python",
   "name": "python",
   "nbconvert_exporter": "python",
   "pygments_lexer": "ipython3",
   "version": "3.12.2"
  }
 },
 "nbformat": 4,
 "nbformat_minor": 2
}
