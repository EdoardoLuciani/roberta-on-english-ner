{
 "cells": [
  {
   "cell_type": "code",
   "execution_count": 5,
   "metadata": {},
   "outputs": [],
   "source": [
    "from transformers import RobertaTokenizerFast, RobertaForTokenClassification, BatchEncoding, CharSpan\n",
    "from datasets import load_dataset\n",
    "import torch, os, numpy as np\n",
    "\n",
    "import utils\n",
    "\n",
    "import importlib\n",
    "importlib.reload(utils);"
   ]
  },
  {
   "cell_type": "code",
   "execution_count": 6,
   "metadata": {},
   "outputs": [],
   "source": [
    "path = 'checkpoints/original-models/checkpoint-1005'\n",
    "\n",
    "tokenizer = RobertaTokenizerFast.from_pretrained('roberta-base', add_prefix_space=True)\n",
    "model = RobertaForTokenClassification.from_pretrained(path, num_labels=37)"
   ]
  },
  {
   "cell_type": "code",
   "execution_count": 7,
   "metadata": {},
   "outputs": [],
   "source": [
    "ds = load_dataset(\"tner/ontonotes5\", keep_in_memory=True, num_proc=os.cpu_count())\n",
    "inspected = ds['test'][0]\n",
    "\n",
    "ds_label_tag_mapping, ds_tag_label_mapping = utils.load_label_mapping()"
   ]
  },
  {
   "cell_type": "code",
   "execution_count": 8,
   "metadata": {},
   "outputs": [],
   "source": [
    "text = \"Yesterday I met the president of the USA Joe Biden.\"\n",
    "tokens: BatchEncoding = tokenizer(text, truncation=True)\n",
    "\n",
    "inputs = {k:torch.tensor([v]) for (k,v) in tokens.items()}"
   ]
  },
  {
   "cell_type": "code",
   "execution_count": 9,
   "metadata": {},
   "outputs": [],
   "source": [
    "with torch.no_grad():\n",
    "    logits = model(inputs['input_ids'], inputs['attention_mask']).logits\n",
    "\n",
    "predicted_token_class_ids = logits.argmax(-1)[0].tolist()"
   ]
  },
  {
   "cell_type": "code",
   "execution_count": 10,
   "metadata": {},
   "outputs": [
    {
     "name": "stdout",
     "output_type": "stream",
     "text": [
      "Yesterday I met the president of the USA Joe Biden.\n",
      "---------                            --- ---------\n",
      "DATE                                 ORG PERSON\n"
     ]
    }
   ],
   "source": [
    "def print_labels_texts(tokens: BatchEncoding, labels: list[int], ds_tag_label_mapping: dict[int, str]):\n",
    "    char_spans = [(tokens.token_to_chars(i),label) for i,label in enumerate(labels)][1:-1]\n",
    "\n",
    "    grouped_char_spans = []\n",
    "    old_label = 0\n",
    "\n",
    "    for span, label in char_spans:\n",
    "        if label == 0:\n",
    "            pass\n",
    "        elif old_label == 0 or (ds_tag_label_mapping[grouped_char_spans[-1][1]][2:] != ds_tag_label_mapping[label][2:]):\n",
    "            grouped_char_spans.append((span, label))\n",
    "        else:\n",
    "            current_span, current_label = grouped_char_spans[-1]\n",
    "            grouped_char_spans[-1] = (CharSpan(current_span.start, span.end), current_label)\n",
    "\n",
    "        old_label = label\n",
    "\n",
    "\n",
    "    formatted_spans: str = ''\n",
    "    for span, _ in grouped_char_spans:\n",
    "        formatted_spans += ' ' * (span.start - len(formatted_spans))\n",
    "        formatted_spans += '-' * (span.end - span.start)\n",
    "    print(formatted_spans)\n",
    "\n",
    "\n",
    "    formatted_spans: str = ''\n",
    "    for span, label in grouped_char_spans:\n",
    "        formatted_spans += ' ' * (span.start - len(formatted_spans))\n",
    "        formatted_spans += ds_tag_label_mapping[label][2:]\n",
    "    print(formatted_spans)\n",
    "\n",
    "print(text)\n",
    "print_labels_texts(tokens, predicted_token_class_ids, ds_tag_label_mapping)"
   ]
  }
 ],
 "metadata": {
  "kernelspec": {
   "display_name": "roberta-traning",
   "language": "python",
   "name": "python3"
  },
  "language_info": {
   "codemirror_mode": {
    "name": "ipython",
    "version": 3
   },
   "file_extension": ".py",
   "mimetype": "text/x-python",
   "name": "python",
   "nbconvert_exporter": "python",
   "pygments_lexer": "ipython3",
   "version": "3.12.2"
  }
 },
 "nbformat": 4,
 "nbformat_minor": 2
}
