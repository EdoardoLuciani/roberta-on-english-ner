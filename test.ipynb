{
 "cells": [
  {
   "cell_type": "code",
   "execution_count": null,
   "metadata": {},
   "outputs": [],
   "source": [
    "from transformers import RobertaTokenizerFast, RobertaForTokenClassification, BatchEncoding, CharSpan\n",
    "from datasets import load_dataset, Dataset\n",
    "from tqdm.notebook import tqdm\n",
    "import torch, os, numpy as np\n",
    "\n",
    "import utils\n",
    "\n",
    "import importlib\n",
    "importlib.reload(utils);\n",
    "\n",
    "device = \"cuda\" if torch.cuda.is_available else \"cpu\""
   ]
  },
  {
   "cell_type": "code",
   "execution_count": null,
   "metadata": {},
   "outputs": [],
   "source": [
    "path = 'checkpoints/roberta-training-default-dataset-fp16/checkpoint-1005'\n",
    "\n",
    "tokenizer = RobertaTokenizerFast.from_pretrained('roberta-base', add_prefix_space=True)\n",
    "model = RobertaForTokenClassification.from_pretrained(path, num_labels=37).to(device)"
   ]
  },
  {
   "cell_type": "code",
   "execution_count": null,
   "metadata": {},
   "outputs": [],
   "source": [
    "ds = load_dataset(\"tner/ontonotes5\", keep_in_memory=True, num_proc=os.cpu_count())\n",
    "\n",
    "validation_tokenized_ds: Dataset = utils.process_dataset(ds['test'], tokenizer)"
   ]
  },
  {
   "cell_type": "code",
   "execution_count": null,
   "metadata": {},
   "outputs": [],
   "source": [
    "batch_size = 4\n",
    "total_ds_len = len(validation_tokenized_ds)\n",
    "\n",
    "all_predictions = np.zeros((4*total_ds_len, 512), dtype=int)\n",
    "all_labels = np.zeros((4*total_ds_len, 512), dtype=int)\n",
    "\n",
    "with torch.no_grad():\n",
    "    for idx in tqdm(range(0, total_ds_len, batch_size)):\n",
    "        \n",
    "        input_ids = torch.tensor(validation_tokenized_ds['input_ids'][idx:idx + batch_size]).to(device)\n",
    "        attention_mask = torch.tensor(validation_tokenized_ds['attention_mask'][idx:idx + batch_size]).to(device)\n",
    "\n",
    "        logits = model(input_ids, attention_mask).logits\n",
    "        predicted_token_class_ids = logits.argmax(-1).to(\"cpu\").numpy()\n",
    "\n",
    "        all_predictions[idx:idx + batch_size] = predicted_token_class_ids\n",
    "\n",
    "        labels = np.array(validation_tokenized_ds['labels'][idx:idx + batch_size])\n",
    "        all_labels[idx:idx + batch_size] = labels\n",
    "\n",
    "print(utils.compute_accuracy(all_predictions, all_labels))"
   ]
  }
 ],
 "metadata": {
  "kernelspec": {
   "display_name": "roberta-traning",
   "language": "python",
   "name": "python3"
  },
  "language_info": {
   "codemirror_mode": {
    "name": "ipython",
    "version": 3
   },
   "file_extension": ".py",
   "mimetype": "text/x-python",
   "name": "python",
   "nbconvert_exporter": "python",
   "pygments_lexer": "ipython3",
   "version": "3.12.2"
  }
 },
 "nbformat": 4,
 "nbformat_minor": 2
}
